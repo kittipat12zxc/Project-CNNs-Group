{
 "cells": [
  {
   "cell_type": "markdown",
   "id": "dd4d63d7",
   "metadata": {},
   "source": [
    "# 1. Transform + โหลด Dataset + สร้าง DataLoader\n",
    "\n",
    "utils เป็นคำย่อมาจาก “utilities” แปลตรง ๆ คือ “เครื่องมือ/ฟังก์ชันเสริม”\n",
    "\n",
    "โค้ดนี้เป็น ฟังก์ชันสำหรับเตรียมข้อมูลภาพ เพื่อให้โมเดล PyTorch สามารถนำไป train และ test"
   ]
  },
  {
   "cell_type": "code",
   "execution_count": 3,
   "id": "719a8595",
   "metadata": {},
   "outputs": [],
   "source": [
    "from torchvision import datasets, transforms\n",
    "import torch\n",
    "\n",
    "def get_dataloaders(train_dir, test_dir, batch_size=32):\n",
    "\n",
    "# --- 1. Transform สำหรับ Training\n",
    "    transform_train = transforms.Compose([\n",
    "        transforms.Resize((224, 224)),                             # 224x224 px (ขนาดมาตรฐานของโมเดล ShuffleNet)\n",
    "        transforms.RandomHorizontalFlip(),                         # พลิกภาพ\n",
    "        transforms.RandomRotation(15),                             # หมุนภาพ 15 องศา\n",
    "        transforms.ColorJitter(brightness=0.2, contrast=0.2, saturation=0.2),  # เปลี่ยนสีเล็กน้อย\n",
    "        transforms.ToTensor(),\n",
    "        transforms.Normalize((0.5, 0.5, 0.5), (0.5, 0.5, 0.5))     # # Normalize แต่ละช่อง R,G,B  (ค่า pixel ให้มี mean=0.5, std=0.5)\n",
    "]) \n",
    "    \n",
    "# --- 2. Transform สำหรับ Testing \n",
    "    transform_test = transforms.Compose([\n",
    "        transforms.Resize((224, 224)),\n",
    "        transforms.ToTensor(),\n",
    "        transforms.Normalize((0.5,0.5,0.5), (0.5,0.5,0.5))\n",
    "    ])\n",
    "\n",
    "# --- 3. โหลด Dataset\n",
    "    train_dataset = datasets.ImageFolder(train_dir, transform=transform_train)\n",
    "    test_dataset = datasets.ImageFolder(test_dir, transform=transform_test)\n",
    "\n",
    "# --- 4. สร้าง DataLoader\n",
    "    train_loader = torch.utils.data.DataLoader(\n",
    "        train_dataset, \n",
    "        batch_size=32,                                # กำหนดจำนวนภาพต่อ batch\n",
    "        shuffle=True,                                 # สุ่มภาพทุก epoch เพื่อให้โมเดลเรียนรู้แบบไม่จำเจ\n",
    "        \n",
    "        num_workers=4)                                # จำนวน subprocess ที่ใช้โหลดภาพ (ช่วยให้โหลดเร็วขึ้น)\n",
    "    test_loader = torch.utils.data.DataLoader(\n",
    "        test_dataset, \n",
    "        batch_size=32, \n",
    "        shuffle=False,                                # ไม่ต้อง shuffle ข้อมูล test\n",
    "        num_workers=4)\n",
    "\n",
    "# --- 5. คืนค่า DataLoader\n",
    "    return train_loader, test_loader"
   ]
  },
  {
   "cell_type": "markdown",
   "id": "ce97025c",
   "metadata": {},
   "source": [
    "# 2. สร้างโมเดล ShuffleNetV2 และคืนค่าโมเดล\n",
    "\n",
    "Flow : Pretrained ShuffleNetV2 → Replace fc → Output layer = num_classes → Return model"
   ]
  },
  {
   "cell_type": "code",
   "execution_count": 4,
   "id": "ccae1ca7",
   "metadata": {},
   "outputs": [],
   "source": [
    "def get_model(num_classes=8):\n",
    "    model = models.shufflenet_v2_x1_0(pretrained=True)      # -- โหลดโมเดล ShuffleNetV2 ขนาด x1.0 พร้อม weights ที่ pretrained บน ImageNet\n",
    "    num_ftrs = model.fc.in_features                         # -- ดึงจำนวน input features ของ fully connected layer เดิม\n",
    "    model.fc = nn.Linear(num_ftrs, num_classes)             # -- สร้าง fully connected layer ใหม่ ให้ output เท่ากับจำนวน class ของเรา\n",
    "\n",
    "    # -- คืนค่าโมเดลที่ปรับแล้ว\n",
    "    return model"
   ]
  },
  {
   "cell_type": "markdown",
   "id": "d55247b8",
   "metadata": {},
   "source": [
    "# 3. Train and Test ตัวโมเดล + พร้อมเก็บค่า loss กับ accuracy"
   ]
  },
  {
   "cell_type": "code",
   "execution_count": 5,
   "id": "81721d6f",
   "metadata": {},
   "outputs": [],
   "source": [
    "import torch\n",
    "from tqdm import tqdm\n",
    "\n",
    "\n",
    "# ตอน ----- TRAIN\n",
    "def train_one_epoch(model, dataloader, criterion, optimizer, device):\n",
    "    model.train()\n",
    "    running_loss = 0.0\n",
    "    correct, total = 0, 0  # correct = จำนวนภาพที่ทายถูก, total = จำนวนภาพทั้งหมด\n",
    "\n",
    "    for images, labels in tqdm(dataloader, desc=\"Training\", unit=\"batch\"):\n",
    "        images, labels = images.to(device), labels.to(device)\n",
    "\n",
    "        optimizer.zero_grad()      # เคลียร์ gradient เก่า\n",
    "        outputs = model(images)    # forward pass\n",
    "        loss = criterion(outputs, labels)  # คำนวณ loss\n",
    "        loss.backward()            # backward pass (คำนวณ gradient)\n",
    "        optimizer.step()           # อัปเดตน้ำหนักโมเดล\n",
    "\n",
    "        # ---------- เก็บค่า loss ----------\n",
    "        running_loss += loss.item()\n",
    "\n",
    "        # ---------- เก็บค่า accuracy ----------\n",
    "        _, predicted = torch.max(outputs, 1)\n",
    "        total += labels.size(0)\n",
    "        correct += (predicted == labels).sum().item()\n",
    "\n",
    "    # ---------- คำนวณค่าเฉลี่ย ----------\n",
    "    train_loss = running_loss / len(dataloader)  # loss เฉลี่ยต่อ batch\n",
    "    train_acc = 100 * correct / total             # accuracy (%) = correct / total * 100\n",
    "\n",
    "    return train_loss, train_acc  # คืนค่า loss และ accuracy ของ epoch\n",
    "\n",
    "\n",
    "# ตอน ------ TEST\n",
    "def eval_one_epoch(model, dataloader, criterion, device):\n",
    "    model.eval()\n",
    "    loss_total = 0.0\n",
    "    correct, total = 0, 0\n",
    "\n",
    "    with torch.no_grad():  # ปิด gradient เพื่อประหยัด memory\n",
    "        for images, labels in tqdm(dataloader, desc=\"Testing\", unit=\"batch\"):\n",
    "            images, labels = images.to(device), labels.to(device)\n",
    "            outputs = model(images)\n",
    "            loss = criterion(outputs, labels)\n",
    "\n",
    "            # ---------- เก็บค่า loss ----------\n",
    "            loss_total += loss.item()\n",
    "\n",
    "            # ---------- เก็บค่า accuracy ----------\n",
    "            _, predicted = torch.max(outputs, 1)\n",
    "            total += labels.size(0)\n",
    "            correct += (predicted == labels).sum().item()\n",
    "\n",
    "    # ---------- คำนวณค่าเฉลี่ย ----------\n",
    "    test_loss = loss_total / len(dataloader)\n",
    "    test_acc = 100 * correct / total\n",
    "\n",
    "    return test_loss, test_acc  # คืนค่า loss และ accuracy ของ epoch"
   ]
  },
  {
   "cell_type": "markdown",
   "id": "e7536e2c",
   "metadata": {},
   "source": [
    "# 4. Run Train + สรุปผล + สร้างกราฟ"
   ]
  },
  {
   "cell_type": "code",
   "execution_count": 6,
   "id": "0959e841",
   "metadata": {},
   "outputs": [
    {
     "name": "stderr",
     "output_type": "stream",
     "text": [
      "c:\\Github\\Project-CNNs-Group\\.venv\\Lib\\site-packages\\torchvision\\models\\_utils.py:208: UserWarning: The parameter 'pretrained' is deprecated since 0.13 and may be removed in the future, please use 'weights' instead.\n",
      "  warnings.warn(\n",
      "c:\\Github\\Project-CNNs-Group\\.venv\\Lib\\site-packages\\torchvision\\models\\_utils.py:223: UserWarning: Arguments other than a weight enum or `None` for 'weights' are deprecated since 0.13 and may be removed in the future. The current behavior is equivalent to passing `weights=ShuffleNet_V2_X1_0_Weights.IMAGENET1K_V1`. You can also use `weights=ShuffleNet_V2_X1_0_Weights.DEFAULT` to get the most up-to-date weights.\n",
      "  warnings.warn(msg)\n",
      "c:\\Github\\Project-CNNs-Group\\.venv\\Lib\\site-packages\\torch\\optim\\lr_scheduler.py:192: UserWarning: Detected call of `lr_scheduler.step()` before `optimizer.step()`. In PyTorch 1.1.0 and later, you should call them in the opposite order: `optimizer.step()` before `lr_scheduler.step()`.  Failure to do this will result in PyTorch skipping the first value of the learning rate schedule. See more details at https://pytorch.org/docs/stable/optim.html#how-to-adjust-learning-rate\n",
      "  warnings.warn(\n"
     ]
    },
    {
     "name": "stdout",
     "output_type": "stream",
     "text": [
      "Using device: cuda:0\n",
      "\n",
      "Epoch [1/25]\n"
     ]
    },
    {
     "name": "stderr",
     "output_type": "stream",
     "text": [
      "Training: 100%|██████████| 100/100 [00:23<00:00,  4.23batch/s]\n",
      "Testing: 100%|██████████| 26/26 [00:06<00:00,  3.84batch/s]\n"
     ]
    },
    {
     "name": "stdout",
     "output_type": "stream",
     "text": [
      "Train Loss: 1.3192 | Train Acc: 71.80%\n",
      "Test Loss: 0.3494 | Test Acc: 94.48%\n",
      "\n",
      "Epoch [2/25]\n"
     ]
    },
    {
     "name": "stderr",
     "output_type": "stream",
     "text": [
      "Training: 100%|██████████| 100/100 [00:20<00:00,  4.94batch/s]\n",
      "Testing: 100%|██████████| 26/26 [00:05<00:00,  4.59batch/s]\n"
     ]
    },
    {
     "name": "stdout",
     "output_type": "stream",
     "text": [
      "Train Loss: 0.3536 | Train Acc: 91.27%\n",
      "Test Loss: 0.1139 | Test Acc: 96.69%\n",
      "\n",
      "Epoch [3/25]\n"
     ]
    },
    {
     "name": "stderr",
     "output_type": "stream",
     "text": [
      "Training: 100%|██████████| 100/100 [00:20<00:00,  4.86batch/s]\n",
      "Testing: 100%|██████████| 26/26 [00:06<00:00,  4.20batch/s]\n"
     ]
    },
    {
     "name": "stdout",
     "output_type": "stream",
     "text": [
      "Train Loss: 0.1851 | Train Acc: 94.77%\n",
      "Test Loss: 0.0735 | Test Acc: 98.16%\n",
      "\n",
      "Epoch [4/25]\n"
     ]
    },
    {
     "name": "stderr",
     "output_type": "stream",
     "text": [
      "Training: 100%|██████████| 100/100 [00:20<00:00,  4.82batch/s]\n",
      "Testing: 100%|██████████| 26/26 [00:06<00:00,  4.31batch/s]\n"
     ]
    },
    {
     "name": "stdout",
     "output_type": "stream",
     "text": [
      "Train Loss: 0.1167 | Train Acc: 96.84%\n",
      "Test Loss: 0.0618 | Test Acc: 98.16%\n",
      "\n",
      "Epoch [5/25]\n"
     ]
    },
    {
     "name": "stderr",
     "output_type": "stream",
     "text": [
      "Training: 100%|██████████| 100/100 [00:21<00:00,  4.59batch/s]\n",
      "Testing: 100%|██████████| 26/26 [00:06<00:00,  4.30batch/s]\n"
     ]
    },
    {
     "name": "stdout",
     "output_type": "stream",
     "text": [
      "Train Loss: 0.1123 | Train Acc: 96.71%\n",
      "Test Loss: 0.0568 | Test Acc: 98.53%\n",
      "\n",
      "Epoch [6/25]\n"
     ]
    },
    {
     "name": "stderr",
     "output_type": "stream",
     "text": [
      "Training: 100%|██████████| 100/100 [00:20<00:00,  4.80batch/s]\n",
      "Testing: 100%|██████████| 26/26 [00:05<00:00,  4.37batch/s]\n"
     ]
    },
    {
     "name": "stdout",
     "output_type": "stream",
     "text": [
      "Train Loss: 0.0719 | Train Acc: 98.12%\n",
      "Test Loss: 0.0469 | Test Acc: 98.77%\n",
      "\n",
      "Epoch [7/25]\n"
     ]
    },
    {
     "name": "stderr",
     "output_type": "stream",
     "text": [
      "Training: 100%|██████████| 100/100 [00:21<00:00,  4.76batch/s]\n",
      "Testing: 100%|██████████| 26/26 [00:05<00:00,  4.40batch/s]\n"
     ]
    },
    {
     "name": "stdout",
     "output_type": "stream",
     "text": [
      "Train Loss: 0.0755 | Train Acc: 97.84%\n",
      "Test Loss: 0.0577 | Test Acc: 98.16%\n",
      "\n",
      "Epoch [8/25]\n"
     ]
    },
    {
     "name": "stderr",
     "output_type": "stream",
     "text": [
      "Training: 100%|██████████| 100/100 [00:20<00:00,  4.90batch/s]\n",
      "Testing: 100%|██████████| 26/26 [00:05<00:00,  4.36batch/s]\n"
     ]
    },
    {
     "name": "stdout",
     "output_type": "stream",
     "text": [
      "Train Loss: 0.0428 | Train Acc: 98.87%\n",
      "Test Loss: 0.0670 | Test Acc: 97.91%\n",
      "\n",
      "Epoch [9/25]\n"
     ]
    },
    {
     "name": "stderr",
     "output_type": "stream",
     "text": [
      "Training: 100%|██████████| 100/100 [00:20<00:00,  4.88batch/s]\n",
      "Testing: 100%|██████████| 26/26 [00:05<00:00,  4.45batch/s]\n"
     ]
    },
    {
     "name": "stdout",
     "output_type": "stream",
     "text": [
      "Train Loss: 0.0433 | Train Acc: 98.84%\n",
      "Test Loss: 0.0468 | Test Acc: 98.53%\n",
      "\n",
      "Epoch [10/25]\n"
     ]
    },
    {
     "name": "stderr",
     "output_type": "stream",
     "text": [
      "Training: 100%|██████████| 100/100 [00:20<00:00,  4.90batch/s]\n",
      "Testing: 100%|██████████| 26/26 [00:05<00:00,  4.51batch/s]\n"
     ]
    },
    {
     "name": "stdout",
     "output_type": "stream",
     "text": [
      "Train Loss: 0.0449 | Train Acc: 98.65%\n",
      "Test Loss: 0.0721 | Test Acc: 97.91%\n",
      "\n",
      "Epoch [11/25]\n"
     ]
    },
    {
     "name": "stderr",
     "output_type": "stream",
     "text": [
      "Training: 100%|██████████| 100/100 [00:20<00:00,  4.83batch/s]\n",
      "Testing: 100%|██████████| 26/26 [00:05<00:00,  4.48batch/s]\n"
     ]
    },
    {
     "name": "stdout",
     "output_type": "stream",
     "text": [
      "Train Loss: 0.0368 | Train Acc: 98.87%\n",
      "Test Loss: 0.0630 | Test Acc: 98.04%\n",
      "\n",
      "Epoch [12/25]\n"
     ]
    },
    {
     "name": "stderr",
     "output_type": "stream",
     "text": [
      "Training: 100%|██████████| 100/100 [00:20<00:00,  4.94batch/s]\n",
      "Testing: 100%|██████████| 26/26 [00:05<00:00,  4.68batch/s]\n"
     ]
    },
    {
     "name": "stdout",
     "output_type": "stream",
     "text": [
      "Train Loss: 0.0360 | Train Acc: 99.00%\n",
      "Test Loss: 0.0588 | Test Acc: 98.40%\n",
      "\n",
      "Epoch [13/25]\n"
     ]
    },
    {
     "name": "stderr",
     "output_type": "stream",
     "text": [
      "Training: 100%|██████████| 100/100 [00:20<00:00,  4.92batch/s]\n",
      "Testing: 100%|██████████| 26/26 [00:05<00:00,  4.55batch/s]\n"
     ]
    },
    {
     "name": "stdout",
     "output_type": "stream",
     "text": [
      "Train Loss: 0.0395 | Train Acc: 98.84%\n",
      "Test Loss: 0.0494 | Test Acc: 98.40%\n",
      "\n",
      "Epoch [14/25]\n"
     ]
    },
    {
     "name": "stderr",
     "output_type": "stream",
     "text": [
      "Training: 100%|██████████| 100/100 [00:20<00:00,  4.94batch/s]\n",
      "Testing: 100%|██████████| 26/26 [00:05<00:00,  4.55batch/s]\n"
     ]
    },
    {
     "name": "stdout",
     "output_type": "stream",
     "text": [
      "Train Loss: 0.0392 | Train Acc: 98.94%\n",
      "Test Loss: 0.0393 | Test Acc: 98.53%\n",
      "\n",
      "Epoch [15/25]\n"
     ]
    },
    {
     "name": "stderr",
     "output_type": "stream",
     "text": [
      "Training: 100%|██████████| 100/100 [00:20<00:00,  4.91batch/s]\n",
      "Testing: 100%|██████████| 26/26 [00:05<00:00,  4.59batch/s]\n"
     ]
    },
    {
     "name": "stdout",
     "output_type": "stream",
     "text": [
      "Train Loss: 0.0329 | Train Acc: 99.03%\n",
      "Test Loss: 0.0737 | Test Acc: 97.30%\n",
      "\n",
      "Epoch [16/25]\n"
     ]
    },
    {
     "name": "stderr",
     "output_type": "stream",
     "text": [
      "Training: 100%|██████████| 100/100 [00:21<00:00,  4.72batch/s]\n",
      "Testing: 100%|██████████| 26/26 [00:08<00:00,  3.21batch/s]\n"
     ]
    },
    {
     "name": "stdout",
     "output_type": "stream",
     "text": [
      "Train Loss: 0.0288 | Train Acc: 99.09%\n",
      "Test Loss: 0.0530 | Test Acc: 98.28%\n",
      "\n",
      "Epoch [17/25]\n"
     ]
    },
    {
     "name": "stderr",
     "output_type": "stream",
     "text": [
      "Training: 100%|██████████| 100/100 [00:21<00:00,  4.68batch/s]\n",
      "Testing: 100%|██████████| 26/26 [00:07<00:00,  3.69batch/s]\n"
     ]
    },
    {
     "name": "stdout",
     "output_type": "stream",
     "text": [
      "Train Loss: 0.0283 | Train Acc: 99.06%\n",
      "Test Loss: 0.0790 | Test Acc: 97.30%\n",
      "\n",
      "Epoch [18/25]\n"
     ]
    },
    {
     "name": "stderr",
     "output_type": "stream",
     "text": [
      "Training: 100%|██████████| 100/100 [00:23<00:00,  4.24batch/s]\n",
      "Testing: 100%|██████████| 26/26 [00:07<00:00,  3.66batch/s]\n"
     ]
    },
    {
     "name": "stdout",
     "output_type": "stream",
     "text": [
      "Train Loss: 0.0215 | Train Acc: 99.47%\n",
      "Test Loss: 0.0422 | Test Acc: 98.16%\n",
      "\n",
      "Epoch [19/25]\n"
     ]
    },
    {
     "name": "stderr",
     "output_type": "stream",
     "text": [
      "Training: 100%|██████████| 100/100 [00:20<00:00,  4.81batch/s]\n",
      "Testing: 100%|██████████| 26/26 [00:05<00:00,  4.38batch/s]\n"
     ]
    },
    {
     "name": "stdout",
     "output_type": "stream",
     "text": [
      "Train Loss: 0.0146 | Train Acc: 99.66%\n",
      "Test Loss: 0.0600 | Test Acc: 98.28%\n",
      "\n",
      "Epoch [20/25]\n"
     ]
    },
    {
     "name": "stderr",
     "output_type": "stream",
     "text": [
      "Training: 100%|██████████| 100/100 [00:20<00:00,  4.95batch/s]\n",
      "Testing: 100%|██████████| 26/26 [00:05<00:00,  4.55batch/s]\n"
     ]
    },
    {
     "name": "stdout",
     "output_type": "stream",
     "text": [
      "Train Loss: 0.0193 | Train Acc: 99.15%\n",
      "Test Loss: 0.0689 | Test Acc: 97.91%\n",
      "\n",
      "Epoch [21/25]\n"
     ]
    },
    {
     "name": "stderr",
     "output_type": "stream",
     "text": [
      "Training: 100%|██████████| 100/100 [00:20<00:00,  4.95batch/s]\n",
      "Testing: 100%|██████████| 26/26 [00:05<00:00,  4.53batch/s]\n"
     ]
    },
    {
     "name": "stdout",
     "output_type": "stream",
     "text": [
      "Train Loss: 0.0274 | Train Acc: 99.19%\n",
      "Test Loss: 0.0609 | Test Acc: 98.65%\n",
      "\n",
      "Epoch [22/25]\n"
     ]
    },
    {
     "name": "stderr",
     "output_type": "stream",
     "text": [
      "Training: 100%|██████████| 100/100 [00:20<00:00,  4.93batch/s]\n",
      "Testing: 100%|██████████| 26/26 [00:05<00:00,  4.60batch/s]\n"
     ]
    },
    {
     "name": "stdout",
     "output_type": "stream",
     "text": [
      "Train Loss: 0.0168 | Train Acc: 99.59%\n",
      "Test Loss: 0.0749 | Test Acc: 97.91%\n",
      "\n",
      "Epoch [23/25]\n"
     ]
    },
    {
     "name": "stderr",
     "output_type": "stream",
     "text": [
      "Training: 100%|██████████| 100/100 [00:20<00:00,  4.84batch/s]\n",
      "Testing: 100%|██████████| 26/26 [00:05<00:00,  4.57batch/s]\n"
     ]
    },
    {
     "name": "stdout",
     "output_type": "stream",
     "text": [
      "Train Loss: 0.0256 | Train Acc: 99.34%\n",
      "Test Loss: 0.0598 | Test Acc: 98.28%\n",
      "\n",
      "Epoch [24/25]\n"
     ]
    },
    {
     "name": "stderr",
     "output_type": "stream",
     "text": [
      "Training: 100%|██████████| 100/100 [00:20<00:00,  4.88batch/s]\n",
      "Testing: 100%|██████████| 26/26 [00:05<00:00,  4.44batch/s]\n"
     ]
    },
    {
     "name": "stdout",
     "output_type": "stream",
     "text": [
      "Train Loss: 0.0151 | Train Acc: 99.69%\n",
      "Test Loss: 0.0531 | Test Acc: 98.53%\n",
      "\n",
      "Epoch [25/25]\n"
     ]
    },
    {
     "name": "stderr",
     "output_type": "stream",
     "text": [
      "Training: 100%|██████████| 100/100 [00:20<00:00,  4.83batch/s]\n",
      "Testing: 100%|██████████| 26/26 [00:05<00:00,  4.37batch/s]\n"
     ]
    },
    {
     "name": "stdout",
     "output_type": "stream",
     "text": [
      "Train Loss: 0.0197 | Train Acc: 99.44%\n",
      "Test Loss: 0.0714 | Test Acc: 97.91%\n",
      "\n",
      "Per-class Accuracy:\n",
      "  Green_Curry    :  98.00% (98/100)\n",
      "  Khao_phat      :  99.00% (99/100)\n",
      "  Khao_Soi       : 100.00% (110/110)\n",
      "  Massaman_Curry :  96.00% (96/100)\n",
      "  Pad_Krapraw    : 100.00% (100/100)\n",
      "  Pad_Thai       :  90.00% (90/100)\n",
      "  SomTum         : 100.00% (95/95)\n",
      "  Tom_yum        : 100.00% (110/110)\n",
      "Saved training_graph.png\n"
     ]
    }
   ],
   "source": [
    "# --- 1.Import libraries\n",
    "import torch\n",
    "import torch.nn as nn\n",
    "import torch.optim as optim\n",
    "import matplotlib\n",
    "matplotlib.use('Agg')            # Agg backend → ป้องกัน error เมื่อรันบนเครื่องที่ไม่มีหน้าต่าง GUI\n",
    "import matplotlib.pyplot as plt\n",
    "\n",
    "from utils import get_dataloaders\n",
    "from model_ShufflenetV2 import get_model\n",
    "from training_utils import train_one_epoch, eval_one_epoch\n",
    "from collections import defaultdict\n",
    "\n",
    "\n",
    "# --- 2. ฟังก์ชันคำนวณ Per-class Accuracy\n",
    "def per_class_accuracy(model, dataloader, classes, device):\n",
    "    model.eval()\n",
    "    class_correct = defaultdict(int)\n",
    "    class_total = defaultdict(int)\n",
    "\n",
    "    with torch.no_grad():\n",
    "        for images, labels in dataloader:\n",
    "            images, labels = images.to(device), labels.to(device)\n",
    "            outputs = model(images)\n",
    "            _, predicted = torch.max(outputs, 1)\n",
    "\n",
    "            for label, pred in zip(labels, predicted):\n",
    "                class_total[label.item()] += 1\n",
    "                if label.item() == pred.item():\n",
    "                    class_correct[label.item()] += 1\n",
    "\n",
    "    print(\"\\nPer-class Accuracy:\")\n",
    "    for i, class_name in enumerate(classes):\n",
    "        if class_total[i] > 0:\n",
    "            acc = 100 * class_correct[i] / class_total[i]\n",
    "            print(f\"  {class_name:15s}: {acc:6.2f}% ({class_correct[i]}/{class_total[i]})\")\n",
    "        else:\n",
    "            print(f\"  {class_name:15s}: No samples\")\n",
    "\n",
    "\n",
    "# --- 3. ฟังก์ชัน main()\n",
    "def main():\n",
    "    # อุปกรณ์ที่ใช้ประมวลผล (GPU)\n",
    "    device = torch.device(\"cuda:0\" if torch.cuda.is_available() else \"cpu\")\n",
    "    print(f\"Using device: {device}\")\n",
    "\n",
    "    # path ของ train and test\n",
    "    train_dir = \"data/Training\"\n",
    "    test_dir = \"data/Testing\"\n",
    "    classes = [\"Green_Curry\", \"Khao_phat\", \"Khao_Soi\", \"Massaman_Curry\",\n",
    "           \"Pad_Krapraw\", \"Pad_Thai\", \"SomTum\", \"Tom_yum\"]\n",
    "\n",
    "    train_loader, test_loader = get_dataloaders(train_dir, test_dir)\n",
    "\n",
    "# --- 4. สร้างโมเดล Loss function + Optimizer (มาปรับจูนโมเดลตรงนี้นะ)\n",
    "    model = get_model(num_classes=8).to(device)\n",
    "    criterion = nn.CrossEntropyLoss()\n",
    "    optimizer = optim.Adam(model.parameters(), lr=0.0005)\n",
    "    scheduler = optim.lr_scheduler.StepLR(optimizer, step_size=10, gamma=0.5)\n",
    "    scheduler.step() # โมเดลจะ fine-tune น้ำหนักได้ดีขึ้น\n",
    "\n",
    "# --- 5. Train + Test แต่ละ epoch\n",
    "    epochs = 25                    # จำนวนการรันปายยย\n",
    "    train_losses, train_accuracies = [], []\n",
    "    test_losses, test_accuracies = [], []\n",
    "\n",
    "    for epoch in range(epochs):\n",
    "        print(f\"\\nEpoch [{epoch+1}/{epochs}]\")\n",
    "\n",
    "        train_loss, train_acc = train_one_epoch(model, train_loader, criterion, optimizer, device)\n",
    "        test_loss, test_acc = eval_one_epoch(model, test_loader, criterion, device)\n",
    "\n",
    "        train_losses.append(train_loss)\n",
    "        train_accuracies.append(train_acc)\n",
    "        test_losses.append(test_loss)\n",
    "        test_accuracies.append(test_acc)\n",
    "                      # append ค่า loss & accuracy เพื่อสร้างกราฟทีหลัง\n",
    "\n",
    "        print(f\"Train Loss: {train_loss:.4f} | Train Acc: {train_acc:.2f}%\")\n",
    "        print(f\"Test Loss: {test_loss:.4f} | Test Acc: {test_acc:.2f}%\")\n",
    "\n",
    "# --- 6. Per-class Accuracy หลังเทรนเสร็จ\n",
    "    per_class_accuracy(model, test_loader, classes, device)\n",
    "\n",
    "# --- 7. Plot results\n",
    "    plt.figure(figsize=(12, 5))\n",
    "\n",
    "    # Loss graph\n",
    "    plt.subplot(1, 2, 1)\n",
    "    plt.plot(range(1, epochs+1), train_losses, label='Train Loss')\n",
    "    plt.plot(range(1, epochs+1), test_losses, label='Test Loss')\n",
    "    plt.xlabel('Epoch')\n",
    "    plt.ylabel('Loss')\n",
    "    plt.title('Loss per Epoch')\n",
    "    plt.legend()\n",
    "\n",
    "    # Accuracy graph\n",
    "    plt.subplot(1, 2, 2)\n",
    "    plt.plot(range(1, epochs+1), train_accuracies, label='Train Accuracy')\n",
    "    plt.plot(range(1, epochs+1), test_accuracies, label='Test Accuracy')\n",
    "    plt.xlabel('Epoch')\n",
    "    plt.ylabel('Accuracy (%)')\n",
    "    plt.title('Accuracy per Epoch')\n",
    "    plt.legend()\n",
    "\n",
    "    plt.tight_layout()\n",
    "    plt.savefig(\"training_graph.png\")\n",
    "    print(\"Saved training_graph.png\")\n",
    "\n",
    "\n",
    "# --- 8. เรียกใช้งาน main\n",
    "if __name__ == \"__main__\":\n",
    "    main()"
   ]
  }
 ],
 "metadata": {
  "kernelspec": {
   "display_name": ".venv",
   "language": "python",
   "name": "python3"
  },
  "language_info": {
   "codemirror_mode": {
    "name": "ipython",
    "version": 3
   },
   "file_extension": ".py",
   "mimetype": "text/x-python",
   "name": "python",
   "nbconvert_exporter": "python",
   "pygments_lexer": "ipython3",
   "version": "3.13.0"
  }
 },
 "nbformat": 4,
 "nbformat_minor": 5
}
