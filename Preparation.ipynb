{
 "cells": [
  {
   "cell_type": "code",
   "execution_count": 8,
   "id": "413aac04",
   "metadata": {},
   "outputs": [],
   "source": [
    "import cv2\n",
    "import os\n",
    "import numpy as np\n",
    "import nbimporter\n",
    "from Model_test import MobileNetv2\n",
    "import json\n",
    "import time\n",
    "import tensorflow as tf"
   ]
  },
  {
   "cell_type": "code",
   "execution_count": 9,
   "id": "0812ad33",
   "metadata": {},
   "outputs": [
    {
     "name": "stdout",
     "output_type": "stream",
     "text": [
      "2.19.0\n",
      "False\n",
      "[]\n"
     ]
    }
   ],
   "source": [
    "import tensorflow as tf\n",
    "print(tf.__version__)\n",
    "print(tf.test.is_built_with_cuda())  # ต้อง True\n",
    "print(tf.config.list_physical_devices('GPU'))  # ต้องเจอ GPU"
   ]
  },
  {
   "cell_type": "markdown",
   "id": "3f58f720",
   "metadata": {},
   "source": [
    "cmd\n",
    "\n",
    "jupyter nbconvert --to script Model_test.ipynb\n",
    "\n",
    "jupyter nbconvert --to script Evaluation.ipynb"
   ]
  },
  {
   "cell_type": "code",
   "execution_count": 10,
   "id": "6f69936a",
   "metadata": {},
   "outputs": [],
   "source": [
    "def load_and_preprocess(src_dir, size=224):\n",
    "    images = []\n",
    "    labels = []\n",
    "    class_names = sorted(os.listdir(src_dir))\n",
    "    class_to_idx = {c: i for i, c in enumerate(class_names)}\n",
    "    for class_name in class_names:\n",
    "        class_path = os.path.join(src_dir, class_name)\n",
    "        if not os.path.isdir(class_path):\n",
    "            continue\n",
    "        for filename in os.listdir(class_path):\n",
    "            file_path = os.path.join(class_path, filename)\n",
    "            img = cv2.imread(file_path)\n",
    "            if img is None:\n",
    "                print(f\"Warning: Can't read {file_path}\")\n",
    "                continue\n",
    "            img_resized = cv2.resize(img, (size, size), interpolation=cv2.INTER_CUBIC)\n",
    "            images.append(img_resized)\n",
    "            labels.append(class_to_idx[class_name])\n",
    "    images = np.array(images, dtype=np.float32) / 255.0  # Normalize\n",
    "    labels = np.array(labels)\n",
    "    return images, labels"
   ]
  },
  {
   "cell_type": "code",
   "execution_count": 11,
   "id": "85ea115f",
   "metadata": {},
   "outputs": [
    {
     "name": "stdout",
     "output_type": "stream",
     "text": [
      "Epoch 1/20\n",
      "\u001b[1m100/100\u001b[0m \u001b[32m━━━━━━━━━━━━━━━━━━━━\u001b[0m\u001b[37m\u001b[0m \u001b[1m265s\u001b[0m 2s/step - accuracy: 0.2986 - loss: 1.9226 - val_accuracy: 0.1220 - val_loss: 2.3426\n",
      "Epoch 2/20\n",
      "\u001b[1m100/100\u001b[0m \u001b[32m━━━━━━━━━━━━━━━━━━━━\u001b[0m\u001b[37m\u001b[0m \u001b[1m223s\u001b[0m 2s/step - accuracy: 0.4833 - loss: 1.4378 - val_accuracy: 0.1220 - val_loss: 2.9021\n",
      "Epoch 3/20\n",
      "\u001b[1m100/100\u001b[0m \u001b[32m━━━━━━━━━━━━━━━━━━━━\u001b[0m\u001b[37m\u001b[0m \u001b[1m220s\u001b[0m 2s/step - accuracy: 0.5862 - loss: 1.1403 - val_accuracy: 0.1220 - val_loss: 3.1795\n",
      "Epoch 4/20\n",
      "\u001b[1m100/100\u001b[0m \u001b[32m━━━━━━━━━━━━━━━━━━━━\u001b[0m\u001b[37m\u001b[0m \u001b[1m219s\u001b[0m 2s/step - accuracy: 0.6529 - loss: 0.9831 - val_accuracy: 0.1220 - val_loss: 3.8194\n",
      "Epoch 5/20\n",
      "\u001b[1m100/100\u001b[0m \u001b[32m━━━━━━━━━━━━━━━━━━━━\u001b[0m\u001b[37m\u001b[0m \u001b[1m220s\u001b[0m 2s/step - accuracy: 0.7049 - loss: 0.8371 - val_accuracy: 0.1220 - val_loss: 3.0261\n",
      "Epoch 6/20\n",
      "\u001b[1m100/100\u001b[0m \u001b[32m━━━━━━━━━━━━━━━━━━━━\u001b[0m\u001b[37m\u001b[0m \u001b[1m222s\u001b[0m 2s/step - accuracy: 0.7402 - loss: 0.7519 - val_accuracy: 0.2134 - val_loss: 3.2132\n",
      "Epoch 7/20\n",
      "\u001b[1m100/100\u001b[0m \u001b[32m━━━━━━━━━━━━━━━━━━━━\u001b[0m\u001b[37m\u001b[0m \u001b[1m219s\u001b[0m 2s/step - accuracy: 0.7728 - loss: 0.6510 - val_accuracy: 0.4293 - val_loss: 2.8275\n",
      "Epoch 8/20\n",
      "\u001b[1m100/100\u001b[0m \u001b[32m━━━━━━━━━━━━━━━━━━━━\u001b[0m\u001b[37m\u001b[0m \u001b[1m219s\u001b[0m 2s/step - accuracy: 0.7962 - loss: 0.5898 - val_accuracy: 0.5829 - val_loss: 1.6989\n",
      "Epoch 9/20\n",
      "\u001b[1m100/100\u001b[0m \u001b[32m━━━━━━━━━━━━━━━━━━━━\u001b[0m\u001b[37m\u001b[0m \u001b[1m221s\u001b[0m 2s/step - accuracy: 0.8491 - loss: 0.4524 - val_accuracy: 0.2500 - val_loss: 7.7082\n",
      "Epoch 10/20\n",
      "\u001b[1m100/100\u001b[0m \u001b[32m━━━━━━━━━━━━━━━━━━━━\u001b[0m\u001b[37m\u001b[0m \u001b[1m219s\u001b[0m 2s/step - accuracy: 0.8535 - loss: 0.4305 - val_accuracy: 0.5207 - val_loss: 2.8682\n",
      "Epoch 11/20\n",
      "\u001b[1m100/100\u001b[0m \u001b[32m━━━━━━━━━━━━━━━━━━━━\u001b[0m\u001b[37m\u001b[0m \u001b[1m220s\u001b[0m 2s/step - accuracy: 0.8535 - loss: 0.4514 - val_accuracy: 0.4232 - val_loss: 4.0722\n",
      "Epoch 12/20\n",
      "\u001b[1m100/100\u001b[0m \u001b[32m━━━━━━━━━━━━━━━━━━━━\u001b[0m\u001b[37m\u001b[0m \u001b[1m218s\u001b[0m 2s/step - accuracy: 0.8804 - loss: 0.3547 - val_accuracy: 0.4902 - val_loss: 3.4674\n",
      "Epoch 13/20\n",
      "\u001b[1m100/100\u001b[0m \u001b[32m━━━━━━━━━━━━━━━━━━━━\u001b[0m\u001b[37m\u001b[0m \u001b[1m219s\u001b[0m 2s/step - accuracy: 0.8998 - loss: 0.3004 - val_accuracy: 0.4476 - val_loss: 4.1240\n",
      "Epoch 14/20\n",
      "\u001b[1m100/100\u001b[0m \u001b[32m━━━━━━━━━━━━━━━━━━━━\u001b[0m\u001b[37m\u001b[0m \u001b[1m220s\u001b[0m 2s/step - accuracy: 0.9002 - loss: 0.2996 - val_accuracy: 0.4329 - val_loss: 4.9848\n",
      "Epoch 15/20\n",
      "\u001b[1m100/100\u001b[0m \u001b[32m━━━━━━━━━━━━━━━━━━━━\u001b[0m\u001b[37m\u001b[0m \u001b[1m219s\u001b[0m 2s/step - accuracy: 0.9030 - loss: 0.2707 - val_accuracy: 0.4780 - val_loss: 3.7851\n",
      "Epoch 16/20\n",
      "\u001b[1m100/100\u001b[0m \u001b[32m━━━━━━━━━━━━━━━━━━━━\u001b[0m\u001b[37m\u001b[0m \u001b[1m245s\u001b[0m 2s/step - accuracy: 0.9083 - loss: 0.2606 - val_accuracy: 0.5220 - val_loss: 3.0487\n",
      "Epoch 17/20\n",
      "\u001b[1m100/100\u001b[0m \u001b[32m━━━━━━━━━━━━━━━━━━━━\u001b[0m\u001b[37m\u001b[0m \u001b[1m225s\u001b[0m 2s/step - accuracy: 0.9205 - loss: 0.2397 - val_accuracy: 0.6646 - val_loss: 1.7145\n",
      "Epoch 18/20\n",
      "\u001b[1m100/100\u001b[0m \u001b[32m━━━━━━━━━━━━━━━━━━━━\u001b[0m\u001b[37m\u001b[0m \u001b[1m218s\u001b[0m 2s/step - accuracy: 0.9490 - loss: 0.1515 - val_accuracy: 0.5561 - val_loss: 3.1523\n",
      "Epoch 19/20\n",
      "\u001b[1m100/100\u001b[0m \u001b[32m━━━━━━━━━━━━━━━━━━━━\u001b[0m\u001b[37m\u001b[0m \u001b[1m217s\u001b[0m 2s/step - accuracy: 0.9362 - loss: 0.1816 - val_accuracy: 0.5354 - val_loss: 3.3624\n",
      "Epoch 20/20\n",
      "\u001b[1m100/100\u001b[0m \u001b[32m━━━━━━━━━━━━━━━━━━━━\u001b[0m\u001b[37m\u001b[0m \u001b[1m399s\u001b[0m 4s/step - accuracy: 0.9236 - loss: 0.2262 - val_accuracy: 0.5451 - val_loss: 2.9531\n",
      "Training time: 1 hr 17 min 30 sec\n"
     ]
    }
   ],
   "source": [
    "if __name__ == \"__main__\":\n",
    "    # โหลด train data\n",
    "    X_train, y_train = load_and_preprocess('data/Training')\n",
    "\n",
    "    # โหลด test data\n",
    "    X_test, y_test = load_and_preprocess('data/Testing')\n",
    "\n",
    "    model = MobileNetv2((224, 224, 3), k=8)\n",
    "    model.compile(optimizer='adam', loss='sparse_categorical_crossentropy', metrics=['accuracy'])\n",
    "\n",
    "    # เริ่มจับเวลา\n",
    "    start_time = time.time()\n",
    "\n",
    "    # train\n",
    "    history = model.fit(X_train, y_train, batch_size=32, epochs=20, validation_data=(X_test, y_test), verbose=1)\n",
    "\n",
    "    # จบการจับเวลา\n",
    "    end_time = time.time()\n",
    "\n",
    "    # คำนวณเวลารวม (วินาที → นาที)\n",
    "    elapsed_time = end_time - start_time\n",
    "    hours = elapsed_time // 3600\n",
    "    minutes = (elapsed_time % 3600) // 60\n",
    "    seconds = elapsed_time % 60\n",
    "\n",
    "    print(f\"Training time: {int(hours)} hr {int(minutes)} min {int(seconds)} sec\")\n",
    "\n",
    "    metrics = {\n",
    "        'loss': history.history['loss'],\n",
    "        'accuracy': history.history['accuracy'],\n",
    "        'val_loss': history.history['val_loss'],\n",
    "        'val_accuracy': history.history['val_accuracy'],\n",
    "    }\n",
    "\n",
    "    with open('train_history.json', 'w') as f:\n",
    "        json.dump(metrics, f)"
   ]
  }
 ],
 "metadata": {
  "kernelspec": {
   "display_name": ".venv",
   "language": "python",
   "name": "python3"
  },
  "language_info": {
   "codemirror_mode": {
    "name": "ipython",
    "version": 3
   },
   "file_extension": ".py",
   "mimetype": "text/x-python",
   "name": "python",
   "nbconvert_exporter": "python",
   "pygments_lexer": "ipython3",
   "version": "3.11.5"
  }
 },
 "nbformat": 4,
 "nbformat_minor": 5
}
